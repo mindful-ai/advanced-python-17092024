{
 "cells": [
  {
   "cell_type": "markdown",
   "metadata": {},
   "source": [
    "# Inheritance and Polymorphism"
   ]
  },
  {
   "cell_type": "code",
   "execution_count": 2,
   "metadata": {},
   "outputs": [],
   "source": [
    "class Employee:\n",
    "\n",
    "    # Class variables\n",
    "    empCount = 0\n",
    "\n",
    "    # Constructor and Data Intialization\n",
    "    def __init__(self, n, company, salary):\n",
    "        self.name = n\n",
    "        self.company = company\n",
    "        self.salary = salary\n",
    "        self.tax = 0\n",
    "        self.__protected_var__ = 0\n",
    "        Employee.empCount += 1\n",
    "\n",
    "    # Functions\n",
    "    def printinfo(self):\n",
    "        print(self.name.upper())\n",
    "        print('-'*30)\n",
    "        print('COMPANY    :', self.company)\n",
    "        print('SALARY     :', self.salary)\n",
    "        print('TAX        :', self.tax)\n",
    "        \n",
    "\n",
    "    def setsalary(self, newsalary):\n",
    "        self.salary = newsalary\n",
    "        self.calctax()\n",
    "\n",
    "    def getsalary(self):\n",
    "        return self.salary\n",
    "\n",
    "    def calctax(self):\n",
    "        self.tax = 0.1 * float(self.salary.split()[0])\n"
   ]
  },
  {
   "cell_type": "code",
   "execution_count": 3,
   "metadata": {},
   "outputs": [],
   "source": [
    "# CORE DEVELOPER -> Inheritance\n",
    "\n",
    "class newemp(Employee):\n",
    "    pass"
   ]
  },
  {
   "cell_type": "code",
   "execution_count": 4,
   "metadata": {},
   "outputs": [],
   "source": [
    "e1 = newemp('Anil', 'Sapient', '10000000 INR')"
   ]
  },
  {
   "cell_type": "code",
   "execution_count": 5,
   "metadata": {},
   "outputs": [
    {
     "name": "stdout",
     "output_type": "stream",
     "text": [
      "ANIL\n",
      "------------------------------\n",
      "COMPANY    : Sapient\n",
      "SALARY     : 10000000 INR\n",
      "TAX        : 0\n"
     ]
    }
   ],
   "source": [
    "e1.printinfo()"
   ]
  },
  {
   "cell_type": "code",
   "execution_count": 6,
   "metadata": {},
   "outputs": [
    {
     "data": {
      "text/plain": [
       "__main__.newemp"
      ]
     },
     "execution_count": 6,
     "metadata": {},
     "output_type": "execute_result"
    }
   ],
   "source": [
    "type(e1)"
   ]
  },
  {
   "cell_type": "code",
   "execution_count": 15,
   "metadata": {},
   "outputs": [],
   "source": [
    "class extEmployee(Employee):\n",
    "\n",
    "    # Class variables\n",
    "    # empCount is already available here\n",
    "\n",
    "    # Constructor and Data Initialization\n",
    "    # Supposed to distribute the data between parent and child\n",
    "    def __init__(self, n, age, company, salary):\n",
    "        super().__init__(n, company, salary)\n",
    "        self.age = age\n",
    "        self.addr = ''\n",
    "\n",
    "    # Functions\n",
    "\n",
    "    # All functions of Employee is also available here\n",
    "\n",
    "    # Overridden function\n",
    "    def printinfo(self):\n",
    "        super().printinfo()\n",
    "        print('-'*30)\n",
    "        print('AGE        :', self.age)\n",
    "        print('ADDRESS    :', self.addr)\n",
    "        print('\\n\\n')\n",
    "\n",
    "    # New functions\n",
    "    def setaddr(self, addr):\n",
    "        self.addr = addr"
   ]
  },
  {
   "cell_type": "code",
   "execution_count": 16,
   "metadata": {},
   "outputs": [],
   "source": [
    "e2 = extEmployee('Sunil', 40, 'Sapient', '1500000 INR')"
   ]
  },
  {
   "cell_type": "code",
   "execution_count": 17,
   "metadata": {},
   "outputs": [
    {
     "data": {
      "text/plain": [
       "<__main__.extEmployee at 0x180f823a410>"
      ]
     },
     "execution_count": 17,
     "metadata": {},
     "output_type": "execute_result"
    }
   ],
   "source": [
    "e2"
   ]
  },
  {
   "cell_type": "code",
   "execution_count": 18,
   "metadata": {},
   "outputs": [
    {
     "name": "stdout",
     "output_type": "stream",
     "text": [
      "SUNIL\n",
      "------------------------------\n",
      "COMPANY    : Sapient\n",
      "SALARY     : 1500000 INR\n",
      "TAX        : 0\n",
      "------------------------------\n",
      "AGE        : 40\n",
      "ADDRESS    : \n",
      "\n",
      "\n",
      "\n"
     ]
    }
   ],
   "source": [
    "e2.printinfo()"
   ]
  },
  {
   "cell_type": "code",
   "execution_count": 19,
   "metadata": {},
   "outputs": [],
   "source": [
    "e2.setaddr(\"Jayanagar, Bangalore 560040\")"
   ]
  },
  {
   "cell_type": "code",
   "execution_count": 20,
   "metadata": {},
   "outputs": [
    {
     "name": "stdout",
     "output_type": "stream",
     "text": [
      "SUNIL\n",
      "------------------------------\n",
      "COMPANY    : Sapient\n",
      "SALARY     : 1500000 INR\n",
      "TAX        : 0\n",
      "------------------------------\n",
      "AGE        : 40\n",
      "ADDRESS    : Jayanagar, Bangalore 560040\n",
      "\n",
      "\n",
      "\n"
     ]
    }
   ],
   "source": [
    "e2.printinfo()"
   ]
  },
  {
   "cell_type": "code",
   "execution_count": 21,
   "metadata": {},
   "outputs": [
    {
     "data": {
      "text/plain": [
       "4"
      ]
     },
     "execution_count": 21,
     "metadata": {},
     "output_type": "execute_result"
    }
   ],
   "source": [
    "e2.empCount"
   ]
  },
  {
   "cell_type": "code",
   "execution_count": 22,
   "metadata": {},
   "outputs": [
    {
     "data": {
      "text/plain": [
       "4"
      ]
     },
     "execution_count": 22,
     "metadata": {},
     "output_type": "execute_result"
    }
   ],
   "source": [
    "e1.empCount"
   ]
  },
  {
   "cell_type": "code",
   "execution_count": null,
   "metadata": {},
   "outputs": [],
   "source": []
  },
  {
   "cell_type": "code",
   "execution_count": 25,
   "metadata": {},
   "outputs": [],
   "source": [
    "s = e2"
   ]
  },
  {
   "cell_type": "code",
   "execution_count": 23,
   "metadata": {},
   "outputs": [],
   "source": [
    "s = e1"
   ]
  },
  {
   "cell_type": "code",
   "execution_count": 26,
   "metadata": {},
   "outputs": [
    {
     "name": "stdout",
     "output_type": "stream",
     "text": [
      "SUNIL\n",
      "------------------------------\n",
      "COMPANY    : Sapient\n",
      "SALARY     : 1500000 INR\n",
      "TAX        : 0\n",
      "------------------------------\n",
      "AGE        : 40\n",
      "ADDRESS    : Jayanagar, Bangalore 560040\n",
      "\n",
      "\n",
      "\n"
     ]
    }
   ],
   "source": [
    "s.printinfo()"
   ]
  },
  {
   "cell_type": "code",
   "execution_count": null,
   "metadata": {},
   "outputs": [],
   "source": [
    "m.predict_sentiment()"
   ]
  },
  {
   "cell_type": "code",
   "execution_count": 29,
   "metadata": {},
   "outputs": [],
   "source": [
    "e1.empCount = 6"
   ]
  },
  {
   "cell_type": "code",
   "execution_count": 30,
   "metadata": {},
   "outputs": [
    {
     "data": {
      "text/plain": [
       "4"
      ]
     },
     "execution_count": 30,
     "metadata": {},
     "output_type": "execute_result"
    }
   ],
   "source": [
    "e2.empCount"
   ]
  },
  {
   "cell_type": "code",
   "execution_count": null,
   "metadata": {},
   "outputs": [],
   "source": []
  }
 ],
 "metadata": {
  "kernelspec": {
   "display_name": "Python 3 (ipykernel)",
   "language": "python",
   "name": "python3"
  },
  "language_info": {
   "codemirror_mode": {
    "name": "ipython",
    "version": 3
   },
   "file_extension": ".py",
   "mimetype": "text/x-python",
   "name": "python",
   "nbconvert_exporter": "python",
   "pygments_lexer": "ipython3",
   "version": "3.11.7"
  }
 },
 "nbformat": 4,
 "nbformat_minor": 4
}
