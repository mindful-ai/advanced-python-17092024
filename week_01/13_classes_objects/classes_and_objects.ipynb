{
 "cells": [
  {
   "cell_type": "markdown",
   "metadata": {},
   "source": [
    "# Classes and Objects"
   ]
  },
  {
   "cell_type": "code",
   "execution_count": 4,
   "metadata": {},
   "outputs": [],
   "source": [
    "# (CORE) DEVELOPER MINDSET\n",
    "\n",
    "class Employee:\n",
    "\n",
    "    # Class variables\n",
    "    empCount = 0\n",
    "\n",
    "    # Constructor and Data Intialization\n",
    "    def __init__(self, n, company, salary):\n",
    "        self.name = n\n",
    "        self.company = company\n",
    "        self.salary = salary\n",
    "        self.tax = 0\n",
    "        Employee.empCount += 1\n",
    "\n",
    "    # Functions\n",
    "    def printinfo(self):\n",
    "        print(self.name.upper())\n",
    "        print(\"Object Reference: \", self)\n",
    "        print('-'*30)\n",
    "        print('COMPANY    :', self.company)\n",
    "        print('SALARY     :', self.salary)\n",
    "        print('TAX        :', self.tax)\n",
    "        print('\\n\\n')\n",
    "\n",
    "    def setsalary(self, newsalary):\n",
    "        self.salary = newsalary\n",
    "        self.calctax()\n",
    "\n",
    "    def getsalary(self):\n",
    "        return self.salary\n",
    "\n",
    "    def calctax(self):\n",
    "        self.tax = 0.1 * float(self.salary.split()[0])\n"
   ]
  },
  {
   "cell_type": "code",
   "execution_count": 2,
   "metadata": {},
   "outputs": [],
   "source": [
    "# USER/APP DEVELOPER"
   ]
  },
  {
   "cell_type": "code",
   "execution_count": 5,
   "metadata": {},
   "outputs": [],
   "source": [
    "e = Employee('Anil', 'Sapient', '1000000 INR')"
   ]
  },
  {
   "cell_type": "code",
   "execution_count": 6,
   "metadata": {},
   "outputs": [
    {
     "data": {
      "text/plain": [
       "<__main__.Employee at 0x1ff1516e8d0>"
      ]
     },
     "execution_count": 6,
     "metadata": {},
     "output_type": "execute_result"
    }
   ],
   "source": [
    "e"
   ]
  },
  {
   "cell_type": "code",
   "execution_count": 7,
   "metadata": {},
   "outputs": [
    {
     "name": "stdout",
     "output_type": "stream",
     "text": [
      "ANIL\n",
      "Object Reference:  <__main__.Employee object at 0x000001FF1516E8D0>\n",
      "------------------------------\n",
      "COMPANY    : Sapient\n",
      "SALARY     : 1000000 INR\n",
      "TAX        : 0\n",
      "\n",
      "\n",
      "\n"
     ]
    }
   ],
   "source": [
    "e.printinfo()"
   ]
  },
  {
   "cell_type": "code",
   "execution_count": 8,
   "metadata": {},
   "outputs": [],
   "source": [
    "e.setsalary('10000000 INR')"
   ]
  },
  {
   "cell_type": "code",
   "execution_count": 9,
   "metadata": {},
   "outputs": [],
   "source": [
    "e.calctax()"
   ]
  },
  {
   "cell_type": "code",
   "execution_count": 10,
   "metadata": {},
   "outputs": [
    {
     "name": "stdout",
     "output_type": "stream",
     "text": [
      "ANIL\n",
      "Object Reference:  <__main__.Employee object at 0x000001FF1516E8D0>\n",
      "------------------------------\n",
      "COMPANY    : Sapient\n",
      "SALARY     : 10000000 INR\n",
      "TAX        : 1000000.0\n",
      "\n",
      "\n",
      "\n"
     ]
    }
   ],
   "source": [
    "e.printinfo()"
   ]
  },
  {
   "cell_type": "code",
   "execution_count": null,
   "metadata": {},
   "outputs": [],
   "source": []
  }
 ],
 "metadata": {
  "kernelspec": {
   "display_name": "Python 3 (ipykernel)",
   "language": "python",
   "name": "python3"
  },
  "language_info": {
   "codemirror_mode": {
    "name": "ipython",
    "version": 3
   },
   "file_extension": ".py",
   "mimetype": "text/x-python",
   "name": "python",
   "nbconvert_exporter": "python",
   "pygments_lexer": "ipython3",
   "version": "3.11.7"
  }
 },
 "nbformat": 4,
 "nbformat_minor": 4
}
